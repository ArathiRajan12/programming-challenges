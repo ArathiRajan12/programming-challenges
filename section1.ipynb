{
 "cells": [
  {
   "cell_type": "markdown",
   "metadata": {},
   "source": [
    "# Section 1"
   ]
  },
  {
   "cell_type": "markdown",
   "metadata": {},
   "source": [
    "## Three in,three out"
   ]
  },
  {
   "cell_type": "code",
   "execution_count": 3,
   "metadata": {},
   "outputs": [
    {
     "name": "stdout",
     "output_type": "stream",
     "text": [
      "please enter your name.\n",
      "Lister\n",
      "What is your age?\n",
      "39\n",
      "What is your favourite TV programme?\n",
      "Red Dwarf\n",
      "Lister\n",
      "is\n",
      "39\n",
      "years old and likes\n",
      "Red Dwarf\n"
     ]
    }
   ],
   "source": [
    "print(\"please enter your name.\")\n",
    "name=input()\n",
    "print(\"What is your age?\")\n",
    "age=int(input())\n",
    "print(\"What is your favourite TV programme?\")\n",
    "programme=input()\n",
    "print(name)\n",
    "print(\"is\")\n",
    "print(age)\n",
    "print(\"years old and likes\")\n",
    "print(programme)"
   ]
  },
  {
   "cell_type": "code",
   "execution_count": 6,
   "metadata": {},
   "outputs": [
    {
     "name": "stdout",
     "output_type": "stream",
     "text": [
      "David\n",
      "Tennant\n",
      "Tennant David\n"
     ]
    }
   ],
   "source": [
    "first_name=input()\n",
    "sur_name=input()\n",
    "print(sur_name,first_name)"
   ]
  },
  {
   "cell_type": "markdown",
   "metadata": {},
   "source": [
    "## Name swapper"
   ]
  },
  {
   "cell_type": "code",
   "execution_count": 7,
   "metadata": {},
   "outputs": [
    {
     "name": "stdout",
     "output_type": "stream",
     "text": [
      "Please enter your name?\n",
      "Lister\n",
      "What is your age?\n",
      "39\n",
      "What is your favourite TV programme?\n",
      "Red Dwarf\n",
      "Lister 39\n",
      "Likes watching  Red Dwarf\n"
     ]
    }
   ],
   "source": [
    "print(\"Please enter your name?\")\n",
    "name=input()\n",
    "print(\"What is your age?\")\n",
    "age=int(input())\n",
    "print(\"What is your favourite TV programme?\")\n",
    "programme=input()\n",
    "print(name,age)\n",
    "print(\"Likes watching \",programme)\n"
   ]
  },
  {
   "cell_type": "markdown",
   "metadata": {},
   "source": [
    "## Postcode formatter"
   ]
  },
  {
   "cell_type": "code",
   "execution_count": 13,
   "metadata": {},
   "outputs": [
    {
     "name": "stdout",
     "output_type": "stream",
     "text": [
      "KY\n",
      "8\n",
      "9\n",
      "HL\n",
      "KY8 9HL\n"
     ]
    }
   ],
   "source": [
    "letter1=input()\n",
    "number1=input()\n",
    "number2=input()\n",
    "letter2=input()\n",
    "print(letter1+number1,number2+letter2)"
   ]
  },
  {
   "cell_type": "markdown",
   "metadata": {},
   "source": [
    "## Area of a rectangle"
   ]
  },
  {
   "cell_type": "code",
   "execution_count": 16,
   "metadata": {},
   "outputs": [
    {
     "name": "stdout",
     "output_type": "stream",
     "text": [
      "Please enter the following values in cm.\n",
      "Please enter the length of the rectangle.\n",
      "12\n",
      "please enter the width of the rectangle.\n",
      "6\n",
      "The area of the rectangle is:\n",
      "72 square centimetres\n"
     ]
    }
   ],
   "source": [
    "print(\"Please enter the following values in cm.\")\n",
    "print(\"Please enter the length of the rectangle.\")\n",
    "length=int(input())\n",
    "print(\"please enter the width of the rectangle.\")\n",
    "width=int(input())\n",
    "area=length*width\n",
    "print(\"The area of the rectangle is:\")\n",
    "print(area,\"square centimetres\")"
   ]
  },
  {
   "cell_type": "markdown",
   "metadata": {},
   "source": [
    "## Number generator"
   ]
  },
  {
   "cell_type": "code",
   "execution_count": 19,
   "metadata": {},
   "outputs": [
    {
     "name": "stdout",
     "output_type": "stream",
     "text": [
      "2\n",
      "6\n",
      "26\n"
     ]
    }
   ],
   "source": [
    "number1=input()\n",
    "number2=input()\n",
    "print(number1+number2)"
   ]
  },
  {
   "cell_type": "markdown",
   "metadata": {},
   "source": [
    "## Postcode formatter"
   ]
  },
  {
   "cell_type": "code",
   "execution_count": 21,
   "metadata": {},
   "outputs": [
    {
     "name": "stdout",
     "output_type": "stream",
     "text": [
      "KY\n",
      "8\n",
      "hl\n",
      "9\n",
      "KY8 9HL\n"
     ]
    }
   ],
   "source": [
    "letter1=input()\n",
    "number1=input()\n",
    "letter2=input()\n",
    "number2=input()\n",
    "print(letter1+number1,number2+letter2.upper())"
   ]
  },
  {
   "cell_type": "markdown",
   "metadata": {},
   "source": [
    "## Name length"
   ]
  },
  {
   "cell_type": "code",
   "execution_count": 27,
   "metadata": {},
   "outputs": [
    {
     "name": "stdout",
     "output_type": "stream",
     "text": [
      "Please enter your forename:\n",
      "David\n",
      "Please enter your surname:\n",
      "Stott\n",
      "There are 10 letters in your name \n"
     ]
    }
   ],
   "source": [
    "print(\"Please enter your forename:\")\n",
    "forename=input()\n",
    "print(\"Please enter your surname:\")\n",
    "surname=input()\n",
    "name=forename+surname\n",
    "print(\"There are\",len(name),\"letters in your name \")"
   ]
  },
  {
   "cell_type": "markdown",
   "metadata": {},
   "source": [
    "## Counting vowels"
   ]
  },
  {
   "cell_type": "code",
   "execution_count": 37,
   "metadata": {},
   "outputs": [
    {
     "name": "stdout",
     "output_type": "stream",
     "text": [
      "Please enter a sentence of your choice. \n",
      "Luke, I am your fahter\n",
      "Your sentence contained the following:\n",
      "a = 2\n",
      "e = 2\n",
      "i = 0\n",
      "o = 1\n",
      "u = 2\n",
      "This is a total of 7 vowels.\n"
     ]
    }
   ],
   "source": [
    "print(\"Please enter a sentence of your choice. \")\n",
    "sentence=input()\n",
    "a1=sentence.count(\"a\")\n",
    "a2=sentence.count(\"e\")\n",
    "a3=sentence.count(\"i\")\n",
    "a4=sentence.count(\"o\")\n",
    "a5=sentence.count(\"u\")\n",
    "total=a1+a2+a3+a4+a5\n",
    "print(\"Your sentence contained the following:\")\n",
    "print(\"a =\",a1)\n",
    "print(\"e =\",a2)\n",
    "print(\"i =\",a3)\n",
    "print(\"o =\",a4)\n",
    "print(\"u =\",a5)\n",
    "print(\"This is a total of\",total,\"vowels.\" )"
   ]
  },
  {
   "cell_type": "markdown",
   "metadata": {},
   "source": [
    "## Changing gender"
   ]
  },
  {
   "cell_type": "code",
   "execution_count": 55,
   "metadata": {},
   "outputs": [
    {
     "name": "stdout",
     "output_type": "stream",
     "text": [
      "Please enter the male report.\n",
      "He should always ensure that his answers contain as much detail as possible.\n",
      "The female comment is:\n",
      "She should always ensure that her answers contain as much detail as possible.\n"
     ]
    }
   ],
   "source": [
    "print(\"Please enter the male report.\")\n",
    "report=str(input())\n",
    "print(\"The female comment is:\")\n",
    "b=report.replace(\"He\",\"She\")\n",
    "a=b.replace(\"his\",\"her\")\n",
    "print(a)"
   ]
  },
  {
   "cell_type": "markdown",
   "metadata": {},
   "source": [
    "## Stock code generator"
   ]
  },
  {
   "cell_type": "code",
   "execution_count": 64,
   "metadata": {},
   "outputs": [
    {
     "name": "stdout",
     "output_type": "stream",
     "text": [
      "Please enter the product name.\n",
      "Plaza Beans\n",
      "Please enter the year.\n",
      "2016\n",
      "Plns26\n"
     ]
    }
   ],
   "source": [
    "print(\"Please enter the product name.\")\n",
    "product=input()\n",
    "print(\"Please enter the year.\")\n",
    "year=input()\n",
    "a=product[0:2]+product[9:11]+year[0:1]+year[3:4]\n",
    "print(a)"
   ]
  },
  {
   "cell_type": "markdown",
   "metadata": {},
   "source": [
    "## Auction free"
   ]
  },
  {
   "cell_type": "code",
   "execution_count": 69,
   "metadata": {},
   "outputs": [
    {
     "name": "stdout",
     "output_type": "stream",
     "text": [
      "Please enter your three costs.\n",
      "12.78\n",
      "6.32\n",
      "34.99\n",
      "The total cost is 54.09\n",
      "The auction companies fee is 5.0 .\n"
     ]
    }
   ],
   "source": [
    "print(\"Please enter your three costs.\")\n",
    "a=float(input())\n",
    "b=float(input())\n",
    "c=float(input())\n",
    "total=a+b+c\n",
    "fee=(10*total)/100\n",
    "d=int(fee)\n",
    "print(\"The total cost is\",total)\n",
    "print(\"The auction companies fee is\",float(d),\".\")"
   ]
  },
  {
   "cell_type": "markdown",
   "metadata": {},
   "source": [
    "## Area of a circle"
   ]
  },
  {
   "cell_type": "code",
   "execution_count": 73,
   "metadata": {},
   "outputs": [
    {
     "name": "stdout",
     "output_type": "stream",
     "text": [
      "Please enter the following value in cm.\n",
      "Please enter the radius of the circle.\n",
      "16\n",
      "The area of the circle is:\n",
      "803.84 square centimeteres\n"
     ]
    }
   ],
   "source": [
    "print('Please enter the following value in cm.')\n",
    "print('Please enter the radius of the circle.')\n",
    "radius=int(input())\n",
    "area=(radius**2)*(3.14)\n",
    "print('The area of the circle is:')\n",
    "print(area, 'square centimeteres')"
   ]
  },
  {
   "cell_type": "markdown",
   "metadata": {},
   "source": [
    "## Prize draw cheat"
   ]
  },
  {
   "cell_type": "code",
   "execution_count": 74,
   "metadata": {},
   "outputs": [
    {
     "name": "stdout",
     "output_type": "stream",
     "text": [
      "Please enter the volume of the jar(cm3):\n",
      "2712.96\n",
      "Please enter the volume of one sweet(cm3):\n",
      "2.12\n",
      "1279 sweets fit into the jar.\n"
     ]
    }
   ],
   "source": [
    "print('Please enter the volume of the jar(cm3):')\n",
    "volume=float(input())\n",
    "print('Please enter the volume of one sweet(cm3):')\n",
    "volume2=float(input())\n",
    "sweets=volume/volume2\n",
    "print(int(sweets),'sweets fit into the jar.')\n"
   ]
  },
  {
   "cell_type": "markdown",
   "metadata": {},
   "source": [
    "## Leftover paint"
   ]
  },
  {
   "cell_type": "code",
   "execution_count": 75,
   "metadata": {},
   "outputs": [
    {
     "name": "stdout",
     "output_type": "stream",
     "text": [
      "Enter the area in m2 to be painted.\n",
      "178\n",
      "Enter the area (m2) that a single pot covers\n",
      "25\n",
      "You will need 8 pots of paint\n",
      "You can paint 3.0 m2 with the leftover pain.\n"
     ]
    }
   ],
   "source": [
    "print('Enter the area in m2 to be painted.')\n",
    "total_area=int(input())\n",
    "print('Enter the area (m2) that a single pot covers')\n",
    "area_pot=int(input())\n",
    "num_pots=(total_area/area_pot)+1\n",
    "area=area_pot*num_pots\n",
    "leftover=float(total_area%area_pot)\n",
    "print('You will need',int(num_pots),'pots of paint')\n",
    "print('You can paint', leftover,'m2 with the leftover pain.')"
   ]
  },
  {
   "cell_type": "markdown",
   "metadata": {},
   "source": [
    "## Laying bricks"
   ]
  },
  {
   "cell_type": "code",
   "execution_count": 76,
   "metadata": {},
   "outputs": [
    {
     "name": "stdout",
     "output_type": "stream",
     "text": [
      "Plese enter the length of a brick in cm:\n",
      "20\n",
      "Please enter the length of the wall in m:\n",
      "9.89\n",
      "47 bricks build one row of wall.\n",
      "This is  2 cm short of the required wall length \n"
     ]
    }
   ],
   "source": [
    "print('Plese enter the length of a brick in cm:')\n",
    "length_brick=int(input())+1\n",
    "print('Please enter the length of the wall in m:')\n",
    "length_wall=float(input())\n",
    "length_wall=int(100*length_wall)\n",
    "no_brick=length_wall/length_brick\n",
    "short=int(no_brick)*length_brick\n",
    "short_length=length_wall%short\n",
    "print(int(no_brick),'bricks build one row of wall.')\n",
    "print('This is ', short_length,'cm short of the required wall length ')"
   ]
  },
  {
   "cell_type": "markdown",
   "metadata": {},
   "source": [
    "## Atomic weight of hydrocarbons"
   ]
  },
  {
   "cell_type": "code",
   "execution_count": 77,
   "metadata": {},
   "outputs": [
    {
     "name": "stdout",
     "output_type": "stream",
     "text": [
      "Enter the number of carbon atoms.\n",
      "3\n",
      "The atomic mass of C3H8 is 44\n"
     ]
    }
   ],
   "source": [
    "print('Enter the number of carbon atoms.')\n",
    "num_carbon=int(input())\n",
    "num_hydrogen=(num_carbon*2)+2\n",
    "weight=(num_carbon*12)+num_hydrogen\n",
    "print('The atomic mass of C3H8 is',weight)"
   ]
  },
  {
   "cell_type": "markdown",
   "metadata": {},
   "source": [
    "## Standard scratch"
   ]
  },
  {
   "cell_type": "code",
   "execution_count": 78,
   "metadata": {},
   "outputs": [
    {
     "name": "stdout",
     "output_type": "stream",
     "text": [
      "How many par 3 holes are there?\n",
      "6\n",
      "How many par 4 holes are there?\n",
      "10\n",
      "How many par 5 holes are there?\n",
      "2\n",
      "What is the difficulty adjustment for the course?\n",
      "-2\n",
      "The Standard Scratch score for the course is :\n",
      "66\n"
     ]
    }
   ],
   "source": [
    "print('How many par 3 holes are there?' )\n",
    "par3=int(input())\n",
    "print('How many par 4 holes are there?')\n",
    "par4=int(input())\n",
    "print('How many par 5 holes are there?')\n",
    "par5=int(input())\n",
    "print('What is the difficulty adjustment for the course?')\n",
    "diff_adg=int(input())\n",
    "par3_shots=par3*3\n",
    "par4_shots=par4*4\n",
    "par5_shots=par5*5\n",
    "total_shots=par3_shots+par4_shots+par5_shots\n",
    "standard_scratch=total_shots+diff_adg\n",
    "print('The Standard Scratch score for the course is :')\n",
    "print(standard_scratch)"
   ]
  },
  {
   "cell_type": "markdown",
   "metadata": {},
   "source": [
    "## Cycling speed"
   ]
  },
  {
   "cell_type": "code",
   "execution_count": 79,
   "metadata": {},
   "outputs": [
    {
     "name": "stdout",
     "output_type": "stream",
     "text": [
      "What is the circumference of your wheel in millimetres?\n",
      "1250\n",
      "How many wheel journey revolutions have taken place in your journey?\n",
      "8920\n",
      "How many minutes did you cycle for\n",
      "30\n",
      "You covered 11.15 Km.\n",
      "At an average speed of 22.3 Kmh.\n"
     ]
    }
   ],
   "source": [
    "print('What is the circumference of your wheel in millimetres?')\n",
    "circumference=int(input())\n",
    "print('How many wheel journey revolutions have taken place in your journey?')\n",
    "revolutions=int(input())\n",
    "print('How many minutes did you cycle for')\n",
    "time=int(input())\n",
    "distance=(circumference/1000000)*revolutions\n",
    "avarage_speed=distance/(time/60)\n",
    "print('You covered',distance,'Km.')\n",
    "print('At an average speed of', avarage_speed,'Kmh.')"
   ]
  },
  {
   "cell_type": "code",
   "execution_count": null,
   "metadata": {},
   "outputs": [],
   "source": []
  }
 ],
 "metadata": {
  "kernelspec": {
   "display_name": "Python 3",
   "language": "python",
   "name": "python3"
  },
  "language_info": {
   "codemirror_mode": {
    "name": "ipython",
    "version": 3
   },
   "file_extension": ".py",
   "mimetype": "text/x-python",
   "name": "python",
   "nbconvert_exporter": "python",
   "pygments_lexer": "ipython3",
   "version": "3.8.10"
  }
 },
 "nbformat": 4,
 "nbformat_minor": 4
}
