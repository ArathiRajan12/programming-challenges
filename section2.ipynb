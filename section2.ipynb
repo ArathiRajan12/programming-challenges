{
 "cells": [
  {
   "cell_type": "markdown",
   "metadata": {},
   "source": [
    "## Advice please"
   ]
  },
  {
   "cell_type": "code",
   "execution_count": 15,
   "metadata": {},
   "outputs": [
    {
     "name": "stdout",
     "output_type": "stream",
     "text": [
      "Y\n",
      "Always know where your towel is.\n"
     ]
    }
   ],
   "source": [
    "sentence='Would you like some advise?'\n",
    "answer=input()\n",
    "if answer==\"Y\":\n",
    "    print('Always know where your towel is.')\n",
    "    "
   ]
  },
  {
   "cell_type": "markdown",
   "metadata": {},
   "source": [
    "## Go winner"
   ]
  },
  {
   "cell_type": "code",
   "execution_count": 16,
   "metadata": {},
   "outputs": [
    {
     "name": "stdout",
     "output_type": "stream",
     "text": [
      "What is Blacks score?\n",
      "88\n",
      "What is whites score?\n",
      "84\n",
      "After 6.5 is added the score is: \n",
      "Black - 88\n",
      "White - 90.5\n",
      "White is the winner.\n"
     ]
    }
   ],
   "source": [
    "print('What is Blacks score?')\n",
    "score1=int(input())\n",
    "print('What is whites score?')\n",
    "score2=int(input())\n",
    "score3=score2+6.5\n",
    "print('After 6.5 is added the score is: ')\n",
    "if score3:\n",
    "    print('Black -',score1)\n",
    "    print('White -',score3)\n",
    "    print('White is the winner.')"
   ]
  },
  {
   "cell_type": "markdown",
   "metadata": {},
   "source": [
    "## Charity collection"
   ]
  },
  {
   "cell_type": "code",
   "execution_count": 17,
   "metadata": {},
   "outputs": [
    {
     "name": "stdout",
     "output_type": "stream",
     "text": [
      "Please enter the first amount raised.\n",
      "398\n",
      "Please enter the second amount raised.\n",
      "193\n",
      "please enter the third amount raised. \n",
      "478\n",
      "A total of 1069 was raised.\n",
      "This will be doubled to 2138 .\n"
     ]
    }
   ],
   "source": [
    "print('Please enter the first amount raised.')\n",
    "amount1=int(input())\n",
    "print('Please enter the second amount raised.')\n",
    "amount2=int(input())\n",
    "print('please enter the third amount raised. ')\n",
    "amount3=int(input())\n",
    "total=amount1+amount2+amount3\n",
    "print('A total of',total,'was raised.')\n",
    "if total>=1000:\n",
    "    print('This will be doubled to',total*2,'.')"
   ]
  },
  {
   "cell_type": "markdown",
   "metadata": {},
   "source": [
    "## Area of a rectangle(part2)"
   ]
  },
  {
   "cell_type": "code",
   "execution_count": 19,
   "metadata": {},
   "outputs": [
    {
     "name": "stdout",
     "output_type": "stream",
     "text": [
      "Rectangle 1\n",
      "Please enter the length:\n",
      "12\n",
      "Please enter the width:\n",
      "6\n",
      "Rectangle 2\n",
      "Please enter the length:\n",
      "7\n",
      "Please enter the width:\n",
      "9\n",
      "Rectangle 1 has the largest area.\n"
     ]
    }
   ],
   "source": [
    "print('Rectangle 1')\n",
    "print('Please enter the length:')\n",
    "length1=int(input())\n",
    "print('Please enter the width:')\n",
    "width1=int(input())\n",
    "print('Rectangle 2')\n",
    "print('Please enter the length:')\n",
    "length2=int(input())\n",
    "print('Please enter the width:')\n",
    "width2=int(input())\n",
    "area1=length1*width1\n",
    "area2=length2*width2\n",
    "if area1>area2:\n",
    "    print('Rectangle 1 has the largest area.')"
   ]
  },
  {
   "cell_type": "markdown",
   "metadata": {},
   "source": [
    "## The most vowels"
   ]
  },
  {
   "cell_type": "code",
   "execution_count": 20,
   "metadata": {},
   "outputs": [
    {
     "name": "stdout",
     "output_type": "stream",
     "text": [
      "Enter sentence 1\n",
      "You can't handle the truth!\n",
      "Enter sentence 2\n",
      "Houston, we have a problem.\n",
      "The percentage of vowels in sentence1 is: 25.93\n",
      "The percentage of vowels in sentence2 is: 33.33\n",
      "Sentence 1 has 7 vowels.\n",
      "Sentence 2 has 9 vowels.\n"
     ]
    }
   ],
   "source": [
    "print('Enter sentence 1')\n",
    "sentence1=input()\n",
    "print('Enter sentence 2')\n",
    "sentence2=input()\n",
    "number1=len(sentence1)\n",
    "number2=len(sentence2)\n",
    "number11=sentence1.count('a')\n",
    "number12=sentence1.count('e')\n",
    "number13=sentence1.count('i')\n",
    "number14=sentence1.count('o')\n",
    "number15=sentence1.count('u')\n",
    "\n",
    "number21=sentence2.count('a')\n",
    "number22=sentence2.count('e')\n",
    "number23=sentence2.count('i')\n",
    "number24=sentence2.count('o')\n",
    "number25=sentence2.count('u')\n",
    "total1=number11+number12+number13+number14+number15\n",
    "total2=number21+number22+number23+number24+number25\n",
    "per1=(100/number1)*total1\n",
    "per2=(100/number2)*total2\n",
    "print('The percentage of vowels in sentence1 is:',round(per1,2))\n",
    "print('The percentage of vowels in sentence2 is:',round(per2,2))\n",
    "print('Sentence 1 has',total1,'vowels.')\n",
    "print('Sentence 2 has',total2,'vowels.')\n",
    "if sentence1<sentence2:\n",
    "    print('Sentence 2 has more vowels.')"
   ]
  },
  {
   "cell_type": "markdown",
   "metadata": {},
   "source": [
    "## Advice please (part2)"
   ]
  },
  {
   "cell_type": "code",
   "execution_count": 23,
   "metadata": {},
   "outputs": [
    {
     "name": "stdout",
     "output_type": "stream",
     "text": [
      "Would you like some advice?\n",
      "y\n",
      "Sorry, you were asked to enter Y or N.\n"
     ]
    }
   ],
   "source": [
    "print('Would you like some advice?')\n",
    "answer=input()\n",
    "if answer!= 'N' and answer!= 'Y':\n",
    "    print('Sorry, you were asked to enter Y or N.')\n",
    "    \n",
    "    "
   ]
  },
  {
   "cell_type": "markdown",
   "metadata": {},
   "source": [
    "## Car tyre check"
   ]
  },
  {
   "cell_type": "code",
   "execution_count": 55,
   "metadata": {},
   "outputs": [
    {
     "name": "stdout",
     "output_type": "stream",
     "text": [
      "Please enter the test speed(mph)\n",
      "50\n",
      "Please enter the tested stopping distance(m)\n",
      "39.7\n",
      "Your car failed the braking distance test.\n"
     ]
    }
   ],
   "source": [
    "print(\"Please enter the test speed(mph)\")\n",
    "speed=int(input())\n",
    "print(\"Please enter the tested stopping distance(m)\")\n",
    "distance=input()\n",
    "if speed==50:\n",
    "    if distance<=str(38):\n",
    "        print(\"Your car passes the braking test.\")\n",
    "    else:\n",
    "        print(\"Your car failed the braking distance test.\")\n",
    "if speed==30:\n",
    "    if distance<=14:\n",
    "        print(\"Your car passes the braking test.\")\n",
    "    else:\n",
    "        print(\"Your car failed the braking distance test.\")\n",
    "    \n",
    "        \n",
    "        "
   ]
  },
  {
   "cell_type": "markdown",
   "metadata": {},
   "source": [
    "## Charity collection(part2)"
   ]
  },
  {
   "cell_type": "code",
   "execution_count": null,
   "metadata": {},
   "outputs": [],
   "source": [
    "print(\"Please enter the first amount raised.\")\n",
    "amount1=int(input())\n",
    "print(\"Please enter the second amount raised.\")\n",
    "amount2=int(input())\n",
    "print(\"Please enter the third amount raised.\")\n",
    "amount3=int(input())\n",
    "if amount1<1000 or amount2<1000 or amount3<1000:\n",
    "    amount11=amount1+100\n",
    "    amount12=amount2+100\n",
    "    amount13=amount3+100\n",
    "else:\n",
    "if 1000<amount1<2000 or 1000<amount2<2000 or 1000<amount3<2000:\n",
    "    amount11=amount1*2\n",
    "    amount12=amount2*2\n",
    "    amount13=amount3*2\n",
    "if amount1>2000 or amount2>2000 or amount3>2000:\n",
    "    amount11=4000-amount1+2000\n",
    "    amount12=4000-amount2+2000\n",
    "    amount13=4000-amount3+2000\n",
    "    "
   ]
  },
  {
   "cell_type": "code",
   "execution_count": 59,
   "metadata": {},
   "outputs": [
    {
     "name": "stdout",
     "output_type": "stream",
     "text": [
      "Please enter the first amount raised.\n",
      "740\n",
      "Please enter the second amount raised.\n",
      "690\n",
      "Please enter the third amount raised.\n",
      "1024\n",
      "With the company bonus,this is 3952\n"
     ]
    }
   ],
   "source": [
    "print(\"Please enter the first amount raised.\")\n",
    "amount=int(input())\n",
    "print(\"Please enter the second amount raised.\")\n",
    "amount=int(input())\n",
    "print(\"Please enter the third amount raised.\")\n",
    "amount=int(input())\n",
    "total=amount+amount+amount\n",
    "if amount<1000:\n",
    "    amount=amount+100\n",
    "    \n",
    "\n",
    "if 1000<amount<2000:\n",
    "    amount=amount*2\n",
    "    \n",
    "if amount>2000:\n",
    "    amount=4000-amount+2000\n",
    "    print(\"With the company bonus,this is\",amount)\n",
    "    "
   ]
  }
 ],
 "metadata": {
  "kernelspec": {
   "display_name": "Python 3",
   "language": "python",
   "name": "python3"
  },
  "language_info": {
   "codemirror_mode": {
    "name": "ipython",
    "version": 3
   },
   "file_extension": ".py",
   "mimetype": "text/x-python",
   "name": "python",
   "nbconvert_exporter": "python",
   "pygments_lexer": "ipython3",
   "version": "3.8.10"
  }
 },
 "nbformat": 4,
 "nbformat_minor": 4
}
