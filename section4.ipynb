{
 "cells": [
  {
   "cell_type": "markdown",
   "metadata": {},
   "source": [
    "## Section 4"
   ]
  },
  {
   "cell_type": "markdown",
   "metadata": {},
   "source": [
    "## For sale"
   ]
  },
  {
   "cell_type": "code",
   "execution_count": 1,
   "metadata": {},
   "outputs": [
    {
     "name": "stdout",
     "output_type": "stream",
     "text": [
      "Mountain Bike\n",
      "Ski Jacket\n",
      "Electric Guitar\n",
      "PS3 - 500Gb\n",
      "Badminton Racquet\n"
     ]
    }
   ],
   "source": [
    "items=[\"Mountain Bike\",\"Ski Jacket\",\"Electric Guitar\",\"PS3 - 500Gb\",\"Badminton Racquet\"]\n",
    "for i in range(5):\n",
    "    print(items[i])"
   ]
  },
  {
   "cell_type": "markdown",
   "metadata": {},
   "source": [
    "## For sale(part2)"
   ]
  },
  {
   "cell_type": "code",
   "execution_count": 2,
   "metadata": {},
   "outputs": [
    {
     "name": "stdout",
     "output_type": "stream",
     "text": [
      "Mountain Bike - 200\n",
      "Ski Jacket - 67\n",
      "Electric Guitar - 330\n",
      "PS3 - 500Gb - 120\n",
      "Badminton Racquet - 15\n"
     ]
    }
   ],
   "source": [
    "items=[\"Mountain Bike - 200\",\"Ski Jacket - 67\",\"Electric Guitar - 330\",\"PS3 - 500Gb - 120\",\"Badminton Racquet - 15\"]\n",
    "for i in range(5):\n",
    "    print(items[i])"
   ]
  },
  {
   "cell_type": "markdown",
   "metadata": {},
   "source": [
    "## Cricket over(part2)\n"
   ]
  },
  {
   "cell_type": "code",
   "execution_count": 5,
   "metadata": {},
   "outputs": [
    {
     "name": "stdout",
     "output_type": "stream",
     "text": [
      "Please enter the score\n",
      "0\n",
      "2\n",
      "0\n",
      "0\n",
      "4\n",
      "6\n",
      "This overs score was 12\n",
      "With each ball scoring:\n",
      "0\n",
      "2\n",
      "0\n",
      "0\n",
      "4\n",
      "6\n"
     ]
    }
   ],
   "source": [
    "print(\"Please enter the score\")\n",
    "a=[]\n",
    "for loop in range(6):\n",
    "    b=int(input())\n",
    "    a.append (b)\n",
    "c=12\n",
    "print(\"This overs score was\",c)\n",
    "print(\"With each ball scoring:\")\n",
    "for loop in range (6):\n",
    "    print(a[loop])"
   ]
  },
  {
   "cell_type": "markdown",
   "metadata": {},
   "source": [
    "## Dance group"
   ]
  },
  {
   "cell_type": "code",
   "execution_count": 13,
   "metadata": {},
   "outputs": [
    {
     "name": "stdout",
     "output_type": "stream",
     "text": [
      "Please enter a name:\n",
      "Jean Gray \n",
      "Please enter Jean Gray  's  age:\n",
      "13\n",
      "Please enter a name:\n",
      "Max Eisenhardt\n",
      "Please enter Max Eisenhardt 's  age:\n",
      "24\n",
      "Please enter a name:\n",
      "James Howlet\n",
      "Please enter James Howlet 's  age:\n",
      "15\n",
      "Please enter a name:\n",
      "Aleksy Nowak\n",
      "Please enter Aleksy Nowak 's  age:\n",
      "9\n",
      "Jean Gray -Teen\n",
      "Max Eisenhardt-Senior\n",
      "James Howlet-Teen\n",
      "Aleksy Nowak-Junior\n"
     ]
    }
   ],
   "source": [
    "cpt=[]\n",
    "for loop in range(4):\n",
    "    print(\"Please enter a name:\")\n",
    "    name=input()\n",
    "    print(\"Please enter\",name,\"'s\",\" age:\")\n",
    "    age=int(input())\n",
    "    if age<10:\n",
    "        age=\"Junior\"\n",
    "        \n",
    "    elif age>10 and age<20:\n",
    "        age=\"Teen\"\n",
    "        \n",
    "        \n",
    "    elif age>20:\n",
    "         age=\"Senior\"\n",
    "       \n",
    "    d=(name+\"-\"+age)\n",
    "    cpt.append(d)\n",
    "\n",
    "for i in range(4):\n",
    "    print(cpt[i])\n",
    "    "
   ]
  },
  {
   "cell_type": "markdown",
   "metadata": {},
   "source": [
    "## Horse hand"
   ]
  },
  {
   "cell_type": "code",
   "execution_count": 15,
   "metadata": {},
   "outputs": [
    {
     "name": "stdout",
     "output_type": "stream",
     "text": [
      "Enter details of  your horse\n",
      "Maximum height\n",
      "16\n",
      "Maximum age\n",
      "15\n",
      "Suitable horses are:\n",
      "Balck Beauty 14 15\n",
      "Francine 8 14\n",
      "Langrish 15 14\n"
     ]
    }
   ],
   "source": [
    "a=[]\n",
    "print(\"Enter details of  your horse\")\n",
    "b=[\"Balck Beauty\",\"Francine\",\"Langrish\",\"Kathrina\",\"David\",\"Joseph\",\"Peter\",\"Diana\",\"Angelana\",\"Cathy\"]\n",
    "c=[14,8,15,18,17,17,18,16,18,17]\n",
    "h=[15,14,14,16,17,18,16,16,17,17]\n",
    "print(\"Maximum height\")\n",
    "height=int(input())\n",
    "print(\"Maximum age\")\n",
    "age=int(input())\n",
    "print(\"Suitable horses are:\"\")\n",
    "for loop in range(5):\n",
    "    if c[loop]<=height and h[loop]<=age:\n",
    "        print(b[loop],c[loop],h[loop])\n",
    "    else:\n",
    "        break"
   ]
  },
  {
   "cell_type": "markdown",
   "metadata": {},
   "source": [
    "## House size"
   ]
  },
  {
   "cell_type": "code",
   "execution_count": 19,
   "metadata": {},
   "outputs": [
    {
     "name": "stdout",
     "output_type": "stream",
     "text": [
      "House floor area calculator.\n",
      "Enter the number of rooms.3\n",
      "Please enter the name of room1:Lounge \n",
      "Please enter the length of room(m)1:3.56\n",
      "Please enter the width of room(m)1:4.7\n",
      "Please enter the name of room2:Kitchen\n",
      "Please enter the length of room(m)2:2.26\n",
      "Please enter the width of room(m)2:3.69\n",
      "Please enter the name of room3:Bedroom\n",
      "Please enter the length of room(m)3:4.5\n",
      "Please enter the width of room(m)3:4.7\n",
      "House details:\n",
      "Room-Lounge \n",
      "16.7meters squared\n",
      "Room-Kitchen\n",
      "8.3meters squared\n",
      "Room-Bedroom\n",
      "21.2meters squared\n",
      "The total area is calculated as:\n",
      "46.2meters squared\n"
     ]
    }
   ],
   "source": [
    "a=[]\n",
    "total=0\n",
    "print(\"House floor area calculator.\")\n",
    "rooms=int(input(\"Enter the number of rooms.\"))\n",
    "for loop in range(rooms):\n",
    "    \n",
    "    name=input(\"Please enter the name of room\"+str(loop+1)+\":\")\n",
    "    len=float(input(\"Please enter the length of room(m)\"+str(loop+1)+\":\"))\n",
    "    wid=float(input(\"Please enter the width of room(m)\"+str(loop+1)+\":\"))\n",
    "    area=float(len*wid)\n",
    "    area1=round(area,1)\n",
    "    total=total+area1\n",
    "    b='Room-'+name\n",
    "    c=str(area1)+'meters squared'\n",
    "    a.append(b)\n",
    "    a.append(c)\n",
    "\n",
    "print(\"House details:\")\n",
    "for loop in range(6):\n",
    "    print(a[loop])\n",
    "print(\"The total area is calculated as:\")\n",
    "print(str(total)+\"meters squared\")"
   ]
  },
  {
   "cell_type": "markdown",
   "metadata": {},
   "source": [
    "## Who is going to the party"
   ]
  },
  {
   "cell_type": "code",
   "execution_count": 75,
   "metadata": {},
   "outputs": [
    {
     "name": "stdout",
     "output_type": "stream",
     "text": [
      "Who's going?\n",
      "Melisa ?\n",
      "Y\n",
      "Evelyn ?\n",
      "Y\n",
      "Emmy ?\n",
      "N\n",
      "Karen ?\n",
      "N\n",
      "Norma ?\n",
      "Y\n",
      "Dorek ?\n",
      "Y\n",
      "Agnes ?\n",
      "N\n",
      "Billy ?\n",
      "Y\n",
      "Gawet ?\n",
      "Y\n",
      "Arthur ?\n",
      "N\n",
      "Party Attendence List:\n",
      "Melisa\n",
      "Evelyn\n",
      "Norma\n",
      "Dorek\n",
      "Billy\n",
      "Gawet\n"
     ]
    }
   ],
   "source": [
    "print(\"Who's going?\")\n",
    "a=[\"Melisa\",\"Evelyn\",\"Emmy\",\"Karen\",\"Norma\",\"Dorek\",\"Agnes\",\"Billy\",\"Gawet\",\"Arthur\"]\n",
    "b=[]\n",
    "c=[]\n",
    "\n",
    "for i in range(10):\n",
    "    print(a[i],\"?\")\n",
    "    \n",
    "    answer=input()\n",
    "    \n",
    "    if answer==\"Y\":\n",
    "        b.append(a[i])\n",
    "        \n",
    "    else:\n",
    "        c.append(a[i])\n",
    "        \n",
    "print(\"Party Attendence List:\")\n",
    "for i in range(len(b)):\n",
    "    print(b[i])"
   ]
  },
  {
   "cell_type": "markdown",
   "metadata": {},
   "source": [
    "## Bowling club day trip"
   ]
  },
  {
   "cell_type": "code",
   "execution_count": 20,
   "metadata": {},
   "outputs": [
    {
     "name": "stdout",
     "output_type": "stream",
     "text": [
      "How many members have requested a seat?\n",
      "5\n",
      "Please enter your name.\n",
      "Hubab\n",
      "Which row would you like to sit in?\n",
      "2\n",
      "Which seat number would you like to sit in?\n",
      "3\n",
      "Thank your name has been added.\n",
      "Please enter your name.\n",
      "Jessica\n",
      "Which row would you like to sit in?\n",
      "3\n",
      "Which seat number would you like to sit in?\n",
      "1\n",
      "Thank your name has been added.\n",
      "Please enter your name.\n",
      "Danzell\n",
      "Which row would you like to sit in?\n",
      "2\n",
      "Which seat number would you like to sit in?\n",
      "1\n",
      "Thank your name has been added.\n",
      "Please enter your name.\n",
      "Talisha\n",
      "Which row would you like to sit in?\n",
      "4\n",
      "Which seat number would you like to sit in?\n",
      "3\n",
      "Thank your name has been added.\n",
      "Please enter your name.\n",
      "Andrew\n",
      "Which row would you like to sit in?\n",
      "5\n",
      "Which seat number would you like to sit in?\n",
      "4\n",
      "Thank your name has been added.\n",
      "Bus seats have been booked as follows:\n",
      "0. Empty Empty Empty Empty\n",
      "1. Danzell Empty Hubab Empty\n",
      "2. Jessica Empty Empty Empty\n",
      "3. Empty Empty Talisha Empty\n",
      "4. Empty Empty Empty Andrew\n"
     ]
    }
   ],
   "source": [
    "\n",
    "print(\"How many members have requested a seat?\")\n",
    "seat=int(input())\n",
    "a=[\"Empty\"]*5\n",
    "b=[\"Empty\"]*5\n",
    "c=[\"Empty\"]*5\n",
    "d=[\"Empty\"]*5\n",
    "for loop in range(5):\n",
    "    print(\"Please enter your name.\")\n",
    "    name=input()\n",
    "    print(\"Which row would you like to sit in?\")\n",
    "    row=int(input())\n",
    "    print(\"Which seat number would you like to sit in?\")\n",
    "    column=int(input())\n",
    "    print(\"Thank your name has been added.\")\n",
    "    if column==1:\n",
    "        a.pop(row-1)\n",
    "        a.insert(row-1,name)\n",
    "    elif column==2:\n",
    "        b. pop(row-1)\n",
    "        b.insert(row-1,name)\n",
    "    elif column==3:\n",
    "        c.pop(row-1)\n",
    "        c.insert(row-1,name)\n",
    "    elif column==4:\n",
    "        d.pop(row-1)\n",
    "        d.insert(row-1,name)\n",
    "print(\"Bus seats have been booked as follows:\")\n",
    "\n",
    "for loop in range(5):\n",
    "        print(str(loop)+'.',a[loop],b[loop],c[loop],d[loop])"
   ]
  },
  {
   "cell_type": "markdown",
   "metadata": {},
   "source": [
    "## Counting weeds"
   ]
  },
  {
   "cell_type": "code",
   "execution_count": 1,
   "metadata": {},
   "outputs": [
    {
     "name": "stdout",
     "output_type": "stream",
     "text": [
      "Please enter the number of weeds counted at1,1:3\n",
      "Please enter the number of weeds counted at1,2:0\n",
      "Please enter the number of weeds counted at1,3:2\n",
      "Please enter the number of weeds counted at1,4:2\n",
      "Please enter the number of weeds counted at1,5:0\n",
      "Please enter the number of weeds counted at2,1:0\n",
      "Please enter the number of weeds counted at2,2:0\n",
      "Please enter the number of weeds counted at2,3:0\n",
      "Please enter the number of weeds counted at2,4:3\n",
      "Please enter the number of weeds counted at2,5:2\n",
      "Please enter the number of weeds counted at3,1:0\n",
      "Please enter the number of weeds counted at3,2:10\n",
      "Please enter the number of weeds counted at3,3:6\n",
      "Please enter the number of weeds counted at3,4:5\n",
      "Please enter the number of weeds counted at3,5:0\n",
      "Please enter the number of weeds counted at4,1:1\n",
      "Please enter the number of weeds counted at4,2:1\n",
      "Please enter the number of weeds counted at4,3:2\n",
      "Please enter the number of weeds counted at4,4:2\n",
      "Please enter the number of weeds counted at4,5:7\n",
      "Please enter the number of weeds counted at5,1:0\n",
      "Please enter the number of weeds counted at5,2:0\n",
      "Please enter the number of weeds counted at5,3:5\n",
      "Please enter the number of weeds counted at5,4:2\n",
      "Please enter the number of weeds counted at5,5:3\n",
      "The results are shown in below:\n",
      "3 0 2 2 0\n",
      "0 0 0 3 2\n",
      "0 10 6 5 0\n",
      "1 1 2 2 7\n",
      "0 0 5 2 3\n",
      "The total number of weeds found was -56\n"
     ]
    }
   ],
   "source": [
    "total=0\n",
    "weeds=[[0]*5 for main in range(5)]\n",
    "for row in range(5):\n",
    "    for column in range(5):\n",
    "        weeds[row][column]=int(input(\"Please enter the number of weeds counted at\" +str(row+1)+\",\"\n",
    "                                     +str(column+1)+\":\"))\n",
    "        total+=weeds[row][column]\n",
    "\n",
    "print(\"The results are shown in below:\")\n",
    "for loop in range(5):\n",
    "    print(*weeds[loop])\n",
    "\n",
    "print(\"The total number of weeds found was -\"+str(total))"
   ]
  },
  {
   "cell_type": "code",
   "execution_count": 56,
   "metadata": {},
   "outputs": [
    {
     "name": "stdout",
     "output_type": "stream",
     "text": [
      "Please enter over 1 for Team 1\n",
      "2\n",
      "1\n",
      "0\n",
      "0\n",
      "6\n",
      "6\n",
      "Please enter over 2 for Team 1\n",
      "1\n",
      "0\n",
      "6\n",
      "0\n",
      "0\n",
      "0\n",
      "Please enter over 3 for Team 1\n",
      "2\n",
      "2\n",
      "1\n",
      "0\n",
      "0\n",
      "0\n",
      "Please enter over 1 for Team 2\n",
      "0\n",
      "0\n",
      "4\n",
      "4\n",
      "2\n",
      "1\n",
      "Please enter over 2 for Team 2\n",
      "2\n",
      "1\n",
      "0\n",
      "1\n",
      "1\n",
      "0\n",
      "Please enter over 3 for Team 2\n",
      "1\n",
      "0\n",
      "2\n",
      "4\n",
      "2\n",
      "0\n",
      "Do you wish to calculate the result of another game?\n",
      "Y\n",
      "Please enter over 1 for Team 1\n",
      "2\n",
      "1\n",
      "0\n",
      "0\n",
      "6\n",
      "6\n",
      "Please enter over 2 for Team 1\n",
      "1\n",
      "0\n",
      "6\n",
      "0\n",
      "0\n",
      "0\n",
      "Please enter over 3 for Team 1\n",
      "2\n",
      "2\n",
      "0\n",
      "1\n",
      "0\n",
      "0\n",
      "Please enter over 1 for Team 2\n",
      "0\n",
      "0\n",
      "4\n",
      "4\n",
      "2\n",
      "1\n",
      "Please enter over 2 for Team 2\n",
      "2\n",
      "1\n",
      "0\n",
      "1\n",
      "1\n",
      "0\n",
      "Please enter over 3 for Team 2\n",
      "1\n",
      "0\n",
      "2\n",
      "4\n",
      "2\n",
      "0\n",
      "Do you wish to calculate the result of another game?\n",
      "N\n",
      "Score for team 1's three 27\n",
      "Score for team 2's three 25\n",
      "Team 1 won the match.\n",
      "Do you wish to calculate the result of another game?\n",
      "N\n"
     ]
    }
   ],
   "source": [
    "a=[]\n",
    "b=[]\n",
    "while True:\n",
    "    while True:\n",
    "        total1=0\n",
    "        total2=0\n",
    "        for i in range(2):\n",
    "        \n",
    "            over=[[0]*3 for main in range(6)]\n",
    "            for row in range(3):\n",
    "                print('Please enter over', row+1,'for Team',i+1)\n",
    "                for column in range(6):\n",
    "             \n",
    "                    over=int(input())\n",
    "                \n",
    "                    if i==0:\n",
    "                        a.append(over)\n",
    "                        total1+=over\n",
    "                    else:\n",
    "                        b.append(over)\n",
    "                        total2+=over\n",
    "                        \n",
    "        print('Do you wish to calculate the result of another game?')\n",
    "        answer=input()\n",
    "\n",
    "        if answer=='Y':\n",
    "            \n",
    "            continue\n",
    "           \n",
    "        if answer=='N':\n",
    "            \n",
    "            break\n",
    "    \n",
    "    print(\"Score for team 1's three\",total1)\n",
    "    print(\"Score for team 2's three\",total2)\n",
    "    if total1>total2:\n",
    "        print(\"Team 1 won the match.\")\n",
    "    else:\n",
    "        print(\"Team 2 won the match.\")\n",
    "    print(\"Do you wish to calculate the result of another game?\")\n",
    "    answer=input()\n",
    "    if answer==\"Y\":\n",
    "        continue\n",
    "    if answer==\"N\":\n",
    "        break\n",
    "    "
   ]
  },
  {
   "cell_type": "code",
   "execution_count": null,
   "metadata": {},
   "outputs": [],
   "source": []
  },
  {
   "cell_type": "code",
   "execution_count": null,
   "metadata": {},
   "outputs": [],
   "source": []
  }
 ],
 "metadata": {
  "kernelspec": {
   "display_name": "Python 3",
   "language": "python",
   "name": "python3"
  },
  "language_info": {
   "codemirror_mode": {
    "name": "ipython",
    "version": 3
   },
   "file_extension": ".py",
   "mimetype": "text/x-python",
   "name": "python",
   "nbconvert_exporter": "python",
   "pygments_lexer": "ipython3",
   "version": "3.8.10"
  }
 },
 "nbformat": 4,
 "nbformat_minor": 4
}
