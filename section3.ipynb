{
 "cells": [
  {
   "cell_type": "markdown",
   "metadata": {},
   "source": [
    "## Section3"
   ]
  },
  {
   "cell_type": "markdown",
   "metadata": {},
   "source": [
    "## Lines cheat"
   ]
  },
  {
   "cell_type": "code",
   "execution_count": 6,
   "metadata": {},
   "outputs": [
    {
     "name": "stdout",
     "output_type": "stream",
     "text": [
      "Which sentence would yu like to copy?\n",
      "don't behave like a muppet in class.\n",
      "don't behave like a muppet in class.\n",
      "don't behave like a muppet in class.\n",
      "don't behave like a muppet in class.\n",
      "don't behave like a muppet in class.\n",
      "don't behave like a muppet in class.\n",
      "don't behave like a muppet in class.\n",
      "don't behave like a muppet in class.\n",
      "don't behave like a muppet in class.\n",
      "don't behave like a muppet in class.\n",
      "don't behave like a muppet in class.\n",
      "don't behave like a muppet in class.\n",
      "don't behave like a muppet in class.\n",
      "don't behave like a muppet in class.\n",
      "don't behave like a muppet in class.\n",
      "don't behave like a muppet in class.\n",
      "don't behave like a muppet in class.\n",
      "don't behave like a muppet in class.\n",
      "don't behave like a muppet in class.\n",
      "don't behave like a muppet in class.\n",
      "don't behave like a muppet in class.\n"
     ]
    }
   ],
   "source": [
    "print(\"Which sentence would yu like to copy?\")\n",
    "sentence=input()\n",
    "for loop in range(20):\n",
    "    print(sentence)\n",
    "    "
   ]
  },
  {
   "cell_type": "markdown",
   "metadata": {},
   "source": [
    "## Charity collection(part3)"
   ]
  },
  {
   "cell_type": "code",
   "execution_count": 13,
   "metadata": {},
   "outputs": [
    {
     "name": "stdout",
     "output_type": "stream",
     "text": [
      "Please enter the first amount raised.\n",
      "398\n",
      "Please enter the second amount raised.\n",
      "193\n",
      "Please enter the third amount raised.\n",
      "478\n",
      "A total of 1069 was raised.\n",
      "This will be double to:\n",
      "2138!!!\n",
      "2138!!!\n",
      "2138!!!\n"
     ]
    }
   ],
   "source": [
    "print(\"Please enter the first amount raised.\")\n",
    "amount1=int(input())\n",
    "print(\"Please enter the second amount raised.\")\n",
    "amount2=int(input())\n",
    "print(\"Please enter the third amount raised.\")\n",
    "amount3=int(input())\n",
    "total=amount1+amount2+amount3\n",
    "print(\"A total of\",total,\"was raised.\")\n",
    "total1=total*2\n",
    "print(\"This will be double to:\")\n",
    "for loop in range(3):\n",
    "    print(str(total1)+\"!!!\")"
   ]
  },
  {
   "cell_type": "markdown",
   "metadata": {},
   "source": [
    "## Name switch "
   ]
  },
  {
   "cell_type": "code",
   "execution_count": 33,
   "metadata": {},
   "outputs": [
    {
     "name": "stdout",
     "output_type": "stream",
     "text": [
      "Please enter first name:\n",
      "Matt\n",
      "Please enter surname:\n",
      "Reid\n",
      "M R MATT reid MattReid\n",
      "MattReid REID matt r m\n",
      "M R MATT reid MattReid\n",
      "MattReid REID matt r m\n",
      "M R MATT reid MattReid\n",
      "MattReid REID matt r m\n"
     ]
    }
   ],
   "source": [
    "print(\"Please enter first name:\")\n",
    "name1=input()\n",
    "print(\"Please enter surname:\")\n",
    "name2=input()\n",
    "name=name1+name2\n",
    "for loop in range(3):\n",
    "    print(name1[0:1],name2[0:1],name1.upper(),name2.lower(),name1+name2)\n",
    "    print(name1+name2,name2.upper(),name1.lower(),name2[0:1].lower(),name1[0:1].lower())"
   ]
  },
  {
   "cell_type": "markdown",
   "metadata": {},
   "source": [
    "## Cricket over"
   ]
  },
  {
   "cell_type": "code",
   "execution_count": 40,
   "metadata": {},
   "outputs": [
    {
     "name": "stdout",
     "output_type": "stream",
     "text": [
      "Please enter the score for each ball:\n",
      "0\n",
      "2\n",
      "0\n",
      "0\n",
      "4\n",
      "6\n",
      "This over's score was: 12\n"
     ]
    }
   ],
   "source": [
    "print(\"Please enter the score for each ball:\")\n",
    "score1=0\n",
    "for loop in range(6):\n",
    "    score=int(input())\n",
    "    score1=score+score1\n",
    "print(\"This over's score was:\",score1)"
   ]
  },
  {
   "cell_type": "markdown",
   "metadata": {},
   "source": [
    "## Avarage temperature"
   ]
  },
  {
   "cell_type": "code",
   "execution_count": 45,
   "metadata": {},
   "outputs": [
    {
     "name": "stdout",
     "output_type": "stream",
     "text": [
      "Please enter the seven temperatures.\n",
      "12\n",
      "14\n",
      "7\n",
      "6\n",
      "7\n",
      "11\n",
      "11\n",
      "This week avarage was:\n",
      "9.71 degree centigrade\n"
     ]
    }
   ],
   "source": [
    "temp1=0\n",
    "print(\"Please enter the seven temperatures.\")\n",
    "for loop in range(7):\n",
    "    temp=int(input())\n",
    "    temp1=temp+temp1\n",
    "    avarage=temp1/7\n",
    "print(\"This week avarage was:\")\n",
    "print(round(avarage,2),\"degree centigrade\")\n",
    "\n"
   ]
  },
  {
   "cell_type": "markdown",
   "metadata": {},
   "source": [
    "## Lines cheat(part2)"
   ]
  },
  {
   "cell_type": "code",
   "execution_count": 46,
   "metadata": {},
   "outputs": [
    {
     "name": "stdout",
     "output_type": "stream",
     "text": [
      "Which sentence would you like to copied?\n",
      "Mr Reid is the best teacher.\n",
      "How many times would you like this copied?\n",
      "54\n",
      "Mr Reid is the best teacher.\n",
      "Mr Reid is the best teacher.\n",
      "Mr Reid is the best teacher.\n",
      "Mr Reid is the best teacher.\n",
      "Mr Reid is the best teacher.\n",
      "Mr Reid is the best teacher.\n",
      "Mr Reid is the best teacher.\n",
      "Mr Reid is the best teacher.\n",
      "Mr Reid is the best teacher.\n",
      "Mr Reid is the best teacher.\n",
      "Mr Reid is the best teacher.\n",
      "Mr Reid is the best teacher.\n",
      "Mr Reid is the best teacher.\n",
      "Mr Reid is the best teacher.\n",
      "Mr Reid is the best teacher.\n",
      "Mr Reid is the best teacher.\n",
      "Mr Reid is the best teacher.\n",
      "Mr Reid is the best teacher.\n",
      "Mr Reid is the best teacher.\n",
      "Mr Reid is the best teacher.\n",
      "Mr Reid is the best teacher.\n",
      "Mr Reid is the best teacher.\n",
      "Mr Reid is the best teacher.\n",
      "Mr Reid is the best teacher.\n",
      "Mr Reid is the best teacher.\n",
      "Mr Reid is the best teacher.\n",
      "Mr Reid is the best teacher.\n",
      "Mr Reid is the best teacher.\n",
      "Mr Reid is the best teacher.\n",
      "Mr Reid is the best teacher.\n",
      "Mr Reid is the best teacher.\n",
      "Mr Reid is the best teacher.\n",
      "Mr Reid is the best teacher.\n",
      "Mr Reid is the best teacher.\n",
      "Mr Reid is the best teacher.\n",
      "Mr Reid is the best teacher.\n",
      "Mr Reid is the best teacher.\n",
      "Mr Reid is the best teacher.\n",
      "Mr Reid is the best teacher.\n",
      "Mr Reid is the best teacher.\n",
      "Mr Reid is the best teacher.\n",
      "Mr Reid is the best teacher.\n",
      "Mr Reid is the best teacher.\n",
      "Mr Reid is the best teacher.\n",
      "Mr Reid is the best teacher.\n",
      "Mr Reid is the best teacher.\n",
      "Mr Reid is the best teacher.\n",
      "Mr Reid is the best teacher.\n",
      "Mr Reid is the best teacher.\n",
      "Mr Reid is the best teacher.\n",
      "Mr Reid is the best teacher.\n",
      "Mr Reid is the best teacher.\n",
      "Mr Reid is the best teacher.\n",
      "Mr Reid is the best teacher.\n"
     ]
    }
   ],
   "source": [
    "print(\"Which sentence would you like to copied?\")\n",
    "sentence=input()\n",
    "print(\"How many times would you like this copied?\")\n",
    "times=int(input())\n",
    "for loop in range(times):\n",
    "    print(sentence)"
   ]
  },
  {
   "cell_type": "markdown",
   "metadata": {},
   "source": [
    "## Charity collection(part4)"
   ]
  },
  {
   "cell_type": "code",
   "execution_count": 49,
   "metadata": {},
   "outputs": [
    {
     "name": "stdout",
     "output_type": "stream",
     "text": [
      "How many charity raisers were there?\n",
      "6\n",
      "Enter the total raised by each:\n",
      "238\n",
      "624\n",
      "546\n",
      "333\n",
      "651\n",
      "174\n",
      "A total of 2566 was raised.\n",
      "This will increased to:\n",
      "4566!!!\n",
      "4566!!!\n",
      "4566!!!\n"
     ]
    }
   ],
   "source": [
    "print(\"How many charity raisers were there?\")\n",
    "number=int(input())\n",
    "total=0\n",
    "print(\"Enter the total raised by each:\")\n",
    "for loop in range(number):\n",
    "    charity=int(input())\n",
    "    total=charity+total\n",
    "total1=total+2000\n",
    "print(\"A total of\",total,\"was raised.\")\n",
    "print(\"This will increased to:\")\n",
    "for loop in range(3):\n",
    "    print(str(total1)+\"!!!\")"
   ]
  },
  {
   "cell_type": "markdown",
   "metadata": {},
   "source": [
    "## Press up challenge "
   ]
  },
  {
   "cell_type": "code",
   "execution_count": 50,
   "metadata": {},
   "outputs": [
    {
     "name": "stdout",
     "output_type": "stream",
     "text": [
      "Please enter the number of students:\n",
      "3\n",
      "Enter the time in seconds for each student.\n",
      "student 1\n",
      "82\n",
      "student 2\n",
      "67\n",
      "student 3\n",
      "45\n",
      "The avarage time for the 3 was:\n",
      "64.67 seconds\n"
     ]
    }
   ],
   "source": [
    "print(\"Please enter the number of students:\")\n",
    "students=int(input())\n",
    "print(\"Enter the time in seconds for each student.\")\n",
    "total=0\n",
    "for loop in range(students):\n",
    "    print(\"student\",(loop+1))\n",
    "    student=int(input())\n",
    "    total=total+student\n",
    "avarage=total/3\n",
    "print(\"The avarage time for the\",students,\"was:\")\n",
    "print(round(avarage,2),\"seconds\")"
   ]
  },
  {
   "cell_type": "markdown",
   "metadata": {},
   "source": [
    "## Number patterns "
   ]
  },
  {
   "cell_type": "code",
   "execution_count": 64,
   "metadata": {},
   "outputs": [
    {
     "name": "stdout",
     "output_type": "stream",
     "text": [
      "Odd Numbers List\n",
      "1\n",
      "3\n",
      "5\n",
      "7\n",
      "9\n",
      "11\n"
     ]
    }
   ],
   "source": [
    "print(\"Odd Numbers List\" )\n",
    "number1=-1\n",
    "for loop in range(6):\n",
    "    number1=number1+2\n",
    "    print(number1)"
   ]
  },
  {
   "cell_type": "markdown",
   "metadata": {},
   "source": [
    "## Number pattern(part2)"
   ]
  },
  {
   "cell_type": "code",
   "execution_count": 67,
   "metadata": {},
   "outputs": [
    {
     "name": "stdout",
     "output_type": "stream",
     "text": [
      "The folowing program will display odd numbers.\n",
      "Enter the first number in the list\n",
      "5\n",
      "Enter the last number in the list\n",
      "13\n",
      "5\n",
      "7\n",
      "9\n",
      "11\n",
      "13\n"
     ]
    }
   ],
   "source": [
    "print(\"The folowing program will display odd numbers.\")\n",
    "print(\"Enter the first number in the list\")\n",
    "num1=int(input())\n",
    "print(\"Enter the last number in the list\")\n",
    "num2=int(input())\n",
    "for loop in range(num1,num2+1,2):\n",
    "    print(loop)"
   ]
  },
  {
   "cell_type": "markdown",
   "metadata": {},
   "source": [
    "## Password "
   ]
  },
  {
   "cell_type": "code",
   "execution_count": 72,
   "metadata": {},
   "outputs": [
    {
     "name": "stdout",
     "output_type": "stream",
     "text": [
      "Please enter the password.\n",
      "snool\n",
      "Sorry, incorrect! Try again.\n",
      "Please enter the password.\n",
      "ornery\n",
      "Entry gained!\n"
     ]
    }
   ],
   "source": [
    "print(\"Please enter the password.\")\n",
    "password=\"snool\"\n",
    "while not password==\"ornery\":\n",
    "    password=input()\n",
    "    print(\"Sorry, incorrect! Try again.\")\n",
    "    print(\"Please enter the password.\")\n",
    "    password=input()\n",
    "print(\"Entry gained!\")"
   ]
  },
  {
   "cell_type": "markdown",
   "metadata": {},
   "source": [
    "## Number pattern(part3)"
   ]
  },
  {
   "cell_type": "code",
   "execution_count": 74,
   "metadata": {},
   "outputs": [
    {
     "name": "stdout",
     "output_type": "stream",
     "text": [
      "The program will display odd numbers\n",
      "aenter the first number in the list\n",
      "5\n",
      "enter the last number\n",
      "17\n",
      "Sorry,the number must be at least+20\n",
      "please enter the number\n",
      "27\n",
      "odd number list\n",
      "5\n",
      "7\n",
      "9\n",
      "11\n",
      "13\n",
      "15\n",
      "17\n",
      "19\n",
      "21\n",
      "23\n",
      "25\n"
     ]
    }
   ],
   "source": [
    "print(\"The program will display odd numbers\")\n",
    "\n",
    "print(\"Enter the first number in the list\")\n",
    "first=int(input())\n",
    "\n",
    "print(\"Enter the last number\")\n",
    "b=int(input())\n",
    "while not b>=first+20:\n",
    "    \n",
    "    print(\"Sorry,the number must be at least+20\")\n",
    "    print(\"please enter the number\")\n",
    "    b=int(input())\n",
    "print(\"odd number list\")\n",
    "for loop in range(first,b,2):\n",
    "     print(loop)"
   ]
  },
  {
   "cell_type": "markdown",
   "metadata": {},
   "source": [
    "## Advice please(part3)"
   ]
  },
  {
   "cell_type": "code",
   "execution_count": 32,
   "metadata": {},
   "outputs": [
    {
     "name": "stdout",
     "output_type": "stream",
     "text": [
      "Would you like some advice?\n",
      "H\n",
      "Please  enter Y or N only.\n",
      "Would you like some advice?\n",
      "N\n",
      "Don't be silly. You defenitely need advice!\n",
      "Y\n",
      "Don't feed the trlls!\n"
     ]
    }
   ],
   "source": [
    "print(\"Would you like some advice?\")\n",
    "answer=input()\n",
    "while True:\n",
    "    \n",
    "    \n",
    "    if answer==\"N\":\n",
    "        print(\"Don't be silly. You defenitely need advice!\")\n",
    "        answer=input()\n",
    "        continue\n",
    "        \n",
    "    if answer==\"Y\":\n",
    "        print(\"Don't feed the trlls!\")\n",
    "        break\n",
    "    else:\n",
    "        print(\"Please  enter Y or N only.\")\n",
    "        print(\"Would you like some advice?\")\n",
    "        answer=input()\n",
    "        continue\n",
    "  \n",
    "        \n",
    "               "
   ]
  },
  {
   "cell_type": "markdown",
   "metadata": {},
   "source": [
    "## No more presents "
   ]
  },
  {
   "cell_type": "code",
   "execution_count": 132,
   "metadata": {},
   "outputs": [
    {
     "name": "stdout",
     "output_type": "stream",
     "text": [
      "Please enter the price of each presents:\n",
      "35\n",
      "100\n",
      "50\n",
      "45\n",
      "Limit exceeded.\n",
      "You can't include the 45\n"
     ]
    }
   ],
   "source": [
    "print(\"Please enter the price of each presents:\")\n",
    "total=0\n",
    "while not total>200:\n",
    "    present=int(input())\n",
    "    total+=present\n",
    "    \n",
    "print(\"Limit exceeded.\")\n",
    "print(\"You can't include the\",present)\n",
    "    "
   ]
  },
  {
   "cell_type": "markdown",
   "metadata": {},
   "source": [
    "## Menu systems\n",
    "\n"
   ]
  },
  {
   "cell_type": "code",
   "execution_count": 12,
   "metadata": {},
   "outputs": [
    {
     "name": "stdout",
     "output_type": "stream",
     "text": [
      "Enter your menu choice(Q,A,K orL)\n",
      "a\n",
      "A is selected.\n"
     ]
    }
   ],
   "source": [
    "print(\"Enter your menu choice(Q,A,K orL)\")\n",
    "while True:\n",
    "    letter=input()\n",
    "    letter1=letter.upper()\n",
    "    if letter1==\"Q\" or letter1==\"A\" or letter1==\"K\" or letter1==\"L\":\n",
    "        print(letter1,\"is selected.\")\n",
    "        break\n",
    "    else:\n",
    "        print(letter,\"is not valid. Enter Q,A,K,or L\")\n",
    "        continue"
   ]
  },
  {
   "cell_type": "markdown",
   "metadata": {},
   "source": [
    "## Menu system"
   ]
  },
  {
   "cell_type": "code",
   "execution_count": 13,
   "metadata": {},
   "outputs": [
    {
     "name": "stdout",
     "output_type": "stream",
     "text": [
      "Enter your menu choice(Q,A,K orL)\n",
      "V\n",
      "V is not valid. Enter Q,A,K,or L\n",
      "L\n",
      "L is selected.\n"
     ]
    }
   ],
   "source": [
    "print(\"Enter your menu choice(Q,A,K orL)\")\n",
    "while True:\n",
    "    letter=input()\n",
    "    letter1=letter.upper()\n",
    "    if letter1==\"Q\" or letter1==\"A\" or letter1==\"K\" or letter1==\"L\":\n",
    "        print(letter1,\"is selected.\")\n",
    "        break\n",
    "    else:\n",
    "        print(letter,\"is not valid. Enter Q,A,K,or L\")\n",
    "        continue"
   ]
  },
  {
   "cell_type": "markdown",
   "metadata": {},
   "source": [
    "## Difficult program challenges for repetition"
   ]
  },
  {
   "cell_type": "markdown",
   "metadata": {},
   "source": [
    "## Guess the number"
   ]
  },
  {
   "cell_type": "code",
   "execution_count": 17,
   "metadata": {},
   "outputs": [
    {
     "name": "stdout",
     "output_type": "stream",
     "text": [
      "Guess the hidden number between 1 and 100.\n",
      "Enter your guess.\n",
      "112\n",
      "Your guess was not valid.Enter it again.\n",
      "67\n",
      "Your guess is too high.Try agin.\n",
      "50\n",
      "Your guess is too low.Try again.\n",
      "52\n",
      "Correct Well Done\n"
     ]
    }
   ],
   "source": [
    "print(\"Guess the hidden number between 1 and 100.\")\n",
    "\n",
    "print(\"Enter your guess.\")\n",
    "while True:\n",
    "    num1=int(input())\n",
    "    if num1>100:\n",
    "        print(\"Your guess was not valid.Enter it again.\")\n",
    "    elif num1>52:\n",
    "     \n",
    "        \n",
    "        print(\"Your guess is too high.Try agin.\")\n",
    "    elif num1<52:\n",
    "        \n",
    "        print(\"Your guess is too low.Try again.\")\n",
    "    elif num1==52:\n",
    "        \n",
    "        break\n",
    "print(\"Correct Well Done\")"
   ]
  },
  {
   "cell_type": "markdown",
   "metadata": {},
   "source": [
    "## Average temperature(part2)"
   ]
  },
  {
   "cell_type": "code",
   "execution_count": 31,
   "metadata": {},
   "outputs": [
    {
     "name": "stdout",
     "output_type": "stream",
     "text": [
      "Week 1\n",
      "Please enter the temperatures\n",
      "12\n",
      "14\n",
      "6\n",
      "7\n",
      "66\n",
      "Temperature should be btweeen -40 and 55\n",
      "7\n",
      "11\n",
      "11\n",
      "Week 2\n",
      "Please enter the temperatures\n",
      "12\n",
      "14\n",
      "7\n",
      "6\n",
      "7\n",
      "14\n",
      "12\n",
      "Week 3\n",
      "Please enter the temperatures\n",
      "11\n",
      "11\n",
      "14\n",
      "12\n",
      "6\n",
      "6\n",
      "7\n",
      "Week 4\n",
      "Please enter the temperatures\n",
      "14\n",
      "15\n",
      "7\n",
      "6\n",
      "12\n",
      "11\n",
      "11\n",
      "Week 1 average was:\n",
      "9.71 degree centigrade\n",
      "Week 2 average was:\n",
      "10.29 degree centigrade\n",
      "Week 3 average was:\n",
      "9.57 degree centigrade\n",
      "Week 4 average was:\n",
      "10.86 degree centigrade\n"
     ]
    }
   ],
   "source": [
    "\n",
    "\n",
    "\n",
    "average=[]\n",
    "for loop in range(4):\n",
    "    print(\"Week\",+loop+1)\n",
    "    print(\"Please enter the temperatures\")\n",
    "    temp=0\n",
    "    for loop in range(7):\n",
    "        temp1=int(input())\n",
    "        while temp1<-40 or temp1>55:\n",
    "            print(\"Temperature should be btweeen -40 and 55\") \n",
    "            temp1=int(input())\n",
    "        temp=temp+temp1\n",
    "    \n",
    "    av=temp/7\n",
    "    average1=round(av,2)\n",
    "    average.append(average1)\n",
    "\n",
    "for i in range(4):\n",
    "    print(\"Week\",+i+1,\"average was:\")\n",
    "    print(average[i], \"degree centigrade\")\n",
    "    \n",
    "    \n",
    "            \n",
    "        \n",
    "            \n"
   ]
  },
  {
   "cell_type": "markdown",
   "metadata": {},
   "source": [
    "## Pailwater darts tournament"
   ]
  },
  {
   "cell_type": "code",
   "execution_count": 6,
   "metadata": {},
   "outputs": [
    {
     "name": "stdout",
     "output_type": "stream",
     "text": [
      "Please enter the scores for Player one\n",
      "34\n",
      "26\n",
      "200\n",
      "Invalid Score\n",
      "100\n",
      "Please enter the scores for player two\n",
      "78\n",
      "80\n",
      "97\n",
      "Player one scored the highest individual score.\n",
      "Player one wins!!\n"
     ]
    }
   ],
   "source": [
    "total=0\n",
    "\n",
    "    \n",
    "print(\"Please enter the scores for Player one\")\n",
    "for i in range(3):\n",
    "    score1=int(input())\n",
    "    while score1<0 or score1>180:\n",
    "        print(\"Invalid Score\")\n",
    "        score1=int(input())\n",
    "    total+=score1\n",
    "    if total>score1:\n",
    "        total=score1\n",
    "print(\"Please enter the scores for player two\")\n",
    "total1=0\n",
    "for j in range(3):\n",
    "    score2=int(input())\n",
    "    while score2<0 or score2>180:\n",
    "        print(\"Invalid Score\")\n",
    "        score2=int(input())\n",
    "    total1+=score2\n",
    "    if total1>score2:\n",
    "        total1=score2\n",
    "\n",
    "\n",
    "    \n",
    "if total>total1:\n",
    "    print(\"Player one scored the highest individual score.\")\n",
    "\n",
    "    print(\"Player one wins!!\")\n",
    "elif total<total1:\n",
    "    print(\"Player two scored the highest individual score.\")\n",
    "\n",
    "    print(\"Player two wins!!\")"
   ]
  },
  {
   "cell_type": "code",
   "execution_count": null,
   "metadata": {},
   "outputs": [],
   "source": []
  }
 ],
 "metadata": {
  "kernelspec": {
   "display_name": "Python 3",
   "language": "python",
   "name": "python3"
  },
  "language_info": {
   "codemirror_mode": {
    "name": "ipython",
    "version": 3
   },
   "file_extension": ".py",
   "mimetype": "text/x-python",
   "name": "python",
   "nbconvert_exporter": "python",
   "pygments_lexer": "ipython3",
   "version": "3.8.10"
  }
 },
 "nbformat": 4,
 "nbformat_minor": 4
}
